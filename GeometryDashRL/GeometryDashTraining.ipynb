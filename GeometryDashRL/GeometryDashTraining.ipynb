{
 "cells": [
  {
   "cell_type": "code",
   "execution_count": 1,
   "metadata": {},
   "outputs": [],
   "source": [
    "import numpy as np\n",
    "from collections import deque\n",
    "import random\n",
    "import GeometryDashEnvironments\n",
    "from GeometryDashAgent import DQNAgent"
   ]
  },
  {
   "cell_type": "code",
   "execution_count": null,
   "metadata": {},
   "outputs": [],
   "source": [
    "env = GeometryDashEnvironments.GeometryDashEnv()\n",
    "state_shape = (84, 84, 3)\n",
    "action_size = env.action_space.n\n",
    "agent = DQNAgent(state_shape, action_size)\n",
    "episodes=20\n",
    "\n",
    "batch_size=32\n",
    "memory = deque(maxlen=2000)\n",
    "epsilon = 1.0\n",
    "epsilon_decay = 0.995\n",
    "epsilon_min = 0.01\n",
    "\n",
    "for e in range(episodes):\n",
    "    state = env.reset()\n",
    "    state = np.reshape(state, [1, *state.shape])\n",
    "    done = False\n",
    "    total_reward = 0\n",
    "    i = 0\n",
    "\n",
    "    while not done:\n",
    "        i+=1\n",
    "        action = agent.act(state, epsilon)\n",
    "        print(f'time: {i}, episode: {e}/{episodes}')\n",
    "        next_state, reward, done, _ = env.step(action)\n",
    "        print(f'reward: {reward}, done: {done}')\n",
    "        next_state = np.reshape(next_state, [1, *next_state.shape])\n",
    "        memory.append((state, action, reward, next_state, done))\n",
    "        state = next_state\n",
    "        total_reward += reward\n",
    "\n",
    "        if len(memory) > batch_size:\n",
    "            minibatch = random.sample(memory, batch_size)\n",
    "            for s, a, r, s_next, d in minibatch:\n",
    "                agent.train(s, a, r, s_next, d)\n",
    "                \n",
    "    if epsilon > epsilon_min:\n",
    "        epsilon *= epsilon_decay\n",
    "\n",
    "    print(f\"Episode: {e}/{episodes}, Score: {total_reward}, Epsilon: {epsilon}\")"
   ]
  },
  {
   "cell_type": "code",
   "execution_count": 4,
   "metadata": {},
   "outputs": [],
   "source": [
    "agent.save(\"geometry_dash_dqn.weights.h5\")\n",
    "env.close()"
   ]
  }
 ],
 "metadata": {
  "kernelspec": {
   "display_name": "Python 3",
   "language": "python",
   "name": "python3"
  },
  "language_info": {
   "codemirror_mode": {
    "name": "ipython",
    "version": 3
   },
   "file_extension": ".py",
   "mimetype": "text/x-python",
   "name": "python",
   "nbconvert_exporter": "python",
   "pygments_lexer": "ipython3",
   "version": "3.11.9"
  }
 },
 "nbformat": 4,
 "nbformat_minor": 2
}
